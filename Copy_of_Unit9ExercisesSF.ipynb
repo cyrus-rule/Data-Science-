{
  "nbformat": 4,
  "nbformat_minor": 0,
  "metadata": {
    "colab": {
      "provenance": [],
      "include_colab_link": true
    },
    "kernelspec": {
      "name": "python3",
      "display_name": "Python 3"
    },
    "language_info": {
      "name": "python"
    }
  },
  "cells": [
    {
      "cell_type": "markdown",
      "metadata": {
        "id": "view-in-github",
        "colab_type": "text"
      },
      "source": [
        "<a href=\"https://colab.research.google.com/github/cyrus-rule/Data-Science-/blob/main/Copy_of_Unit9ExercisesSF.ipynb\" target=\"_parent\"><img src=\"https://colab.research.google.com/assets/colab-badge.svg\" alt=\"Open In Colab\"/></a>"
      ]
    },
    {
      "cell_type": "markdown",
      "source": [
        "# Unit 9 Exercises: Matrix Multiplication is all you need?\n",
        "\n",
        "We won't just talk about matrix multiplication in these exercises: we'll also play with a neuarl network visualization in order to get some intuition on how to properly parameratize neural networks."
      ],
      "metadata": {
        "id": "_AryvPXMCLY0"
      }
    },
    {
      "cell_type": "markdown",
      "source": [
        "**Task1**:\n",
        "\n",
        "Play with the web app at this [link](http://matrixmultiplication.xyz/).\n",
        "\n",
        "Explain what happens when we do matrix multiplication.\n",
        "\n",
        "Yes, I know I basically already asked you to do this in the notes. Don't copy and paste your anwser from before; honestly do the exercise again."
      ],
      "metadata": {
        "id": "p1alkQDKCfg8"
      }
    },
    {
      "cell_type": "markdown",
      "source": [
        "Each column vector of the right matrix is multiplied down the rows of the left matrix, collapsing into a single column of the profuct. Matrix 1 * column 1 = column 1 of product."
      ],
      "metadata": {
        "id": "TZ81h8sqI8oW"
      }
    },
    {
      "cell_type": "markdown",
      "source": [
        "**Task2**:\n",
        "\n",
        "Look at code for any neural network, such as my notes, or any other source.\n",
        "\n",
        "1. Point out where in the code the neural network is multiplying matricies.\n",
        "\n",
        "2. Conceptually, what part of a neural network is that matrix multiplication that you pointed out?\n",
        "In other words, what does matrix multiplication do for a neural network?"
      ],
      "metadata": {
        "id": "JK1wkGSwC7nW"
      }
    },
    {
      "cell_type": "markdown",
      "source": [
        "From the notes:"
      ],
      "metadata": {
        "id": "zY6oDPIBNUT6"
      }
    },
    {
      "cell_type": "code",
      "source": [
        "# Set the number of epochs; this is how many times we update our model\n",
        "epochs = 10\n",
        "\n",
        "for epoch in range(epochs):\n",
        "    ### Training\n",
        "\n",
        "    #this allows our matrices to update\n",
        "    linear.train()\n",
        "\n",
        "    # 1. Forward pass; makes predictions\n",
        "    y_pred = linear(X_train)\n",
        "\n",
        "    # 2. Calculate loss; how bad were our predictions?\n",
        "    loss = loss_fn(y_pred, y_train)\n",
        "\n",
        "    # 3. Optimizer zero grad; resets how we change our model\n",
        "    optimizer.zero_grad()\n",
        "\n",
        "    # 4. Loss backwards; determines how to change our weights matrix\n",
        "    loss.backward()\n",
        "\n",
        "    # 5. Optimizer step; changes our weights matrix based on .backward()\n",
        "    optimizer.step()\n",
        "\n",
        "    ### Testing\n",
        "    linear.eval() #forces our matrices to stay the same\n",
        "    with torch.inference_mode():\n",
        "      # 1. Forward pass; makes predictions, but with test data\n",
        "      test_pred = linear(X_test)\n",
        "      # 2. Calculate the loss, but with test data\n",
        "      test_loss = loss_fn(test_pred, y_test)\n",
        "\n",
        "    # Print out what's happening\n",
        "    if epoch % 1 == 0: #prints every 100 epochs\n",
        "        print(f\"Epoch: {epoch} | Train loss: {loss:.5f}, Test loss: {test_loss:.5f}\")"
      ],
      "metadata": {
        "id": "0V0yvaQPNfko"
      },
      "execution_count": null,
      "outputs": []
    },
    {
      "cell_type": "markdown",
      "source": [
        "The matrix multiplication happens in the linear function, like at\n",
        "\n",
        "\n",
        "```\n",
        "y_pred = linear(X_train)\n",
        "```\n",
        "and\n",
        "```\n",
        "test_pred = linear(X_test)\n",
        "```\n",
        "This is where the inputs are combined according to their relative importance that the network learns over time (the weights). By stacking these mappings, the network can learn arbitrarily complex relationships between the inputs and outputs.\n",
        "\n",
        "y = Wx + b"
      ],
      "metadata": {
        "id": "lIzC2IzYNgV1"
      }
    },
    {
      "cell_type": "markdown",
      "source": [
        "**Task3**:\n",
        "\n",
        "Go to the [TensorFlow Playground website](https://playground.tensorflow.org/#activation=tanh&batchSize=10&dataset=circle&regDataset=reg-plane&learningRate=0.03&regularizationRate=0&noise=0&networkShape=4,2&seed=0.16540&showTestData=false&discretize=false&percTrainData=50&x=true&y=true&xTimesY=false&xSquared=false&ySquared=false&cosX=false&sinX=false&cosY=false&sinY=false&collectStats=false&problem=classification&initZero=false&hideText=false).\n",
        "\n",
        "Explain what part of the neural network visualization is matrix multiplication."
      ],
      "metadata": {
        "id": "cUQQ_t5wEtD0"
      }
    },
    {
      "cell_type": "markdown",
      "source": [
        "The lines between one layer and another is one matrix multiplication. You take all the outputs from one column of neurons and combine them according to the weights to get the outpot column of neurons in the next row. This is that same y = Wx multiplication from before. x is the nodes from the previous layer, and y is the nodes from the next layer."
      ],
      "metadata": {
        "id": "pegoLQPrP_-O"
      }
    },
    {
      "cell_type": "markdown",
      "source": [
        "**Task4**:\n",
        "\n",
        "Go to the [TensorFlow Playground website](https://playground.tensorflow.org/#activation=tanh&batchSize=10&dataset=circle&regDataset=reg-plane&learningRate=0.03&regularizationRate=0&noise=0&networkShape=4,2&seed=0.16540&showTestData=false&discretize=false&percTrainData=50&x=true&y=true&xTimesY=false&xSquared=false&ySquared=false&cosX=false&sinX=false&cosY=false&sinY=false&collectStats=false&problem=classification&initZero=false&hideText=false).\n",
        "\n",
        "Set up the scenario with the following characteristics:\n",
        "\n",
        "- problem type: regression\n",
        "- Data: multi guassian\n",
        "- Ratio: 80% training\n",
        "- Noise: 20\n",
        "- Batch size: 15\n",
        "- Discretize output: start with it checked on\n",
        "\n",
        "You may turn discretize output on or off once you get an idea of what to do, so you can see what each node is doing.\n",
        "\n",
        "Goal: get your test loss to under **0.03**.\n",
        "\n",
        "You may change any of the other parameters that I didn't explicitly tell you to set up. Remember to use the back/restart button inbetween model adjustments.\n",
        "\n",
        "Your answer will be a link to the model you created. How do you get that link? Once you've achieved the appropriate test loss, copy and paste the url."
      ],
      "metadata": {
        "id": "8sYleMUZDKDg"
      }
    },
    {
      "cell_type": "markdown",
      "source": [
        "https://playground.tensorflow.org/#activation=tanh&batchSize=15&dataset=circle&regDataset=reg-gauss&learningRate=0.03&regularizationRate=0&noise=20&networkShape=3,2&seed=0.25816&showTestData=false&discretize=true&percTrainData=20&x=true&y=true&xTimesY=true&xSquared=true&ySquared=true&cosX=false&sinX=true&cosY=false&sinY=true&collectStats=false&problem=regression&initZero=false&hideText=false"
      ],
      "metadata": {
        "id": "76qBhSq3gyQF"
      }
    },
    {
      "cell_type": "markdown",
      "source": [
        "**Task5**:\n",
        "\n",
        "Go to the [TensorFlow Playground website](https://playground.tensorflow.org/#activation=tanh&batchSize=10&dataset=circle&regDataset=reg-plane&learningRate=0.03&regularizationRate=0&noise=0&networkShape=4,2&seed=0.16540&showTestData=false&discretize=false&percTrainData=50&x=true&y=true&xTimesY=false&xSquared=false&ySquared=false&cosX=false&sinX=false&cosY=false&sinY=false&collectStats=false&problem=classification&initZero=false&hideText=false).\n",
        "\n",
        "Set up the scenario with the following characteristics:\n",
        "\n",
        "- problem type: classification\n",
        "- Data: circle\n",
        "- Ratio: 80% training\n",
        "- Noise: 0\n",
        "- Batch size: 15\n",
        "\n",
        "Goal: get your test loss to under **0.005**.\n",
        "\n",
        "You may change any of the other parameters that I didn't explicitly tell you to set up. Remember to use the back/restart button inbetween model adjustments.\n",
        "\n",
        "Your answer will be a link to the model you created. How do you get that link? Once you've achieved the appropriate test loss, copy and paste the url."
      ],
      "metadata": {
        "id": "4Pan5Q-XJDpe"
      }
    },
    {
      "cell_type": "markdown",
      "source": [
        "https://playground.tensorflow.org/#activation=tanh&batchSize=15&dataset=circle&regDataset=reg-plane&learningRate=0.03&regularizationRate=0&noise=0&networkShape=&seed=0.36981&showTestData=false&discretize=false&percTrainData=80&x=false&y=false&xTimesY=false&xSquared=true&ySquared=true&cosX=false&sinX=false&cosY=false&sinY=false&collectStats=false&problem=classification&initZero=false&hideText=false"
      ],
      "metadata": {
        "id": "vQN_UE2mouW2"
      }
    },
    {
      "cell_type": "markdown",
      "source": [
        "**Task6**:\n",
        "\n",
        "Go to the [TensorFlow Playground website](https://playground.tensorflow.org/#activation=tanh&batchSize=10&dataset=circle&regDataset=reg-plane&learningRate=0.03&regularizationRate=0&noise=0&networkShape=4,2&seed=0.16540&showTestData=false&discretize=false&percTrainData=50&x=true&y=true&xTimesY=false&xSquared=false&ySquared=false&cosX=false&sinX=false&cosY=false&sinY=false&collectStats=false&problem=classification&initZero=false&hideText=false).\n",
        "\n",
        "Set up the scenario with the following characteristics:\n",
        "\n",
        "- problem type: classification\n",
        "- Data: spiral\n",
        "- Ratio: 80% training\n",
        "- Noise: 20\n",
        "- Batch size: 15\n",
        "\n",
        "Goal: get your test loss to under **0.05**.\n",
        "\n",
        "You may change any of the other parameters that I didn't explicitly tell you to set up. Remember to use the back/restart button inbetween model adjustments.\n",
        "\n",
        "Your answer will be a link to the model you created. How do you get that link? Once you've achieved the appropriate test loss, copy and paste the url."
      ],
      "metadata": {
        "id": "AKuSgkjWLlwL"
      }
    },
    {
      "cell_type": "markdown",
      "source": [
        "https://playground.tensorflow.org/#activation=tanh&batchSize=15&dataset=spiral&regDataset=reg-plane&learningRate=0.03&regularizationRate=0&noise=20&networkShape=5&seed=0.30019&showTestData=false&discretize=false&percTrainData=80&x=true&y=true&xTimesY=true&xSquared=true&ySquared=true&cosX=false&sinX=true&cosY=false&sinY=true&collectStats=false&problem=classification&initZero=false&hideText=false"
      ],
      "metadata": {
        "id": "fIXGSLaSqH_f"
      }
    }
  ]
}